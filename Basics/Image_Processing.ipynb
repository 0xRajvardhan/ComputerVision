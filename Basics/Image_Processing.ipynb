{
 "cells": [
  {
   "attachments": {},
   "cell_type": "markdown",
   "metadata": {},
   "source": [
    "# Convert the color image into gray scale"
   ]
  },
  {
   "cell_type": "code",
   "execution_count": 7,
   "metadata": {},
   "outputs": [],
   "source": [
    "''' Convert the color image into gray scale '''\n",
    "\n",
    "import cv2\n",
    "src = '../images/apple.jpg'\n",
    "input_image = cv2.imread(src)\n",
    "\n",
    "cv2.imshow('Original Image', input_image)\n",
    "\n",
    "cv2.waitKey(0)\n",
    "cv2.destroyAllWindows()\n",
    "\n",
    "if input_image is None:\n",
    "    print('Image not found')\n",
    "    exit(0)\n",
    "\n",
    "# Grayscale version of the input: \n",
    "gray = cv2.cvtColor(input_image, cv2.COLOR_BGR2GRAY)\n",
    "\n",
    "# Display the grayscale version: \n",
    "cv2.imshow('Grayscale Image', gray)\n",
    "\n",
    "cv2.waitKey(0)\n",
    "cv2.destroyAllWindows()\n"
   ]
  },
  {
   "attachments": {},
   "cell_type": "markdown",
   "metadata": {},
   "source": [
    "# Separating BGR and Combining BGR Channels"
   ]
  },
  {
   "cell_type": "code",
   "execution_count": 8,
   "metadata": {},
   "outputs": [],
   "source": [
    "''' Separating BGR and Combining BGR Channels '''\n",
    "import cv2\n",
    "import numpy as np\n",
    "src = '../images/apple.jpg'\n",
    "input_image = cv2.imread(src)\n",
    "\n",
    "if input_image is None:\n",
    "    print('Image not found')\n",
    "    exit(0)\n",
    "\n",
    "# Splitting image into RGB channels:\n",
    "blue, green, red = cv2.split(input_image)\n",
    "\n",
    "cv2.imshow('Blue - grayscale', blue)\n",
    "cv2.waitKey(0)\n",
    "cv2.destroyAllWindows()\n",
    "cv2.imshow('Green - grayscale', green)\n",
    "cv2.waitKey(0)\n",
    "cv2.destroyAllWindows()\n",
    "cv2.imshow('Red - grayscale', red)\n",
    "cv2.waitKey(0)\n",
    "cv2.destroyAllWindows()"
   ]
  },
  {
   "attachments": {},
   "cell_type": "markdown",
   "metadata": {},
   "source": [
    "# Creating a dummy 3D array"
   ]
  },
  {
   "cell_type": "code",
   "execution_count": 9,
   "metadata": {},
   "outputs": [],
   "source": [
    "# Creating a dummy 3D array\n",
    "blue_channel = np.zeros(input_image.shape, input_image.dtype)\n",
    "green_channel = np.zeros(input_image.shape, input_image.dtype)\n",
    "red_channel = np.zeros(input_image.shape, input_image.dtype)\n",
    "\n",
    "# We match each color channel to a 3D dimension:\n",
    "cv2.mixChannels([blue, green, red], [blue_channel], [0, 0])\n",
    "cv2.mixChannels([blue, green, red], [green_channel], [1, 1])\n",
    "cv2.mixChannels([blue, green, red], [red_channel], [2, 2])\n",
    "\n",
    "# Display the three obtained images:\n",
    "cv2.imshow('Blue channel', blue_channel)\n",
    "cv2.waitKey(0)\n",
    "cv2.destroyAllWindows()\n",
    "cv2.imshow('Green channel', green_channel)\n",
    "cv2.waitKey(0)\n",
    "cv2.destroyAllWindows()\n",
    "cv2.imshow('Red channel', red_channel)\n",
    "cv2.waitKey(0)\n",
    "cv2.destroyAllWindows()\n"
   ]
  },
  {
   "attachments": {},
   "cell_type": "markdown",
   "metadata": {},
   "source": [
    "# Bluring the image"
   ]
  },
  {
   "cell_type": "code",
   "execution_count": 15,
   "metadata": {},
   "outputs": [],
   "source": [
    "# Bluring the image\n",
    "import cv2\n",
    "src = '../images/apple.jpg'\n",
    "input_image = cv2.imread(src)\n",
    "\n",
    "cv2.imshow('Original Image', input_image)\n",
    "cv2.waitKey(0)\n",
    "cv2.destroyAllWindows()\n",
    "\n",
    "# blur_image = cv2.medianBlur(input_image, 10)\n",
    "\n",
    "cv2.imshow('Blurred Image', blur_image)\n",
    "cv2.waitKey(0)\n",
    "cv2.destroyAllWindows()"
   ]
  }
 ],
 "metadata": {
  "kernelspec": {
   "display_name": "Python 3",
   "language": "python",
   "name": "python3"
  },
  "language_info": {
   "codemirror_mode": {
    "name": "ipython",
    "version": 3
   },
   "file_extension": ".py",
   "mimetype": "text/x-python",
   "name": "python",
   "nbconvert_exporter": "python",
   "pygments_lexer": "ipython3",
   "version": "3.11.0"
  },
  "orig_nbformat": 4
 },
 "nbformat": 4,
 "nbformat_minor": 2
}
